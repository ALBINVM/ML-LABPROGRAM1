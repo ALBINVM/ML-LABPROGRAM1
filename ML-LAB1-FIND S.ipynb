{
 "cells": [
  {
   "cell_type": "code",
   "execution_count": 10,
   "metadata": {},
   "outputs": [],
   "source": [
    "import random\n",
    "import csv"
   ]
  },
  {
   "cell_type": "code",
   "execution_count": 11,
   "metadata": {},
   "outputs": [],
   "source": [
    "attributes=[['sunny','rainy'],\n",
    "           ['warm','cold'],\n",
    "           ['normal','high'],\n",
    "           ['strong','weak'],\n",
    "           ['warm','cool'],\n",
    "           ['same','change']]"
   ]
  },
  {
   "cell_type": "code",
   "execution_count": 12,
   "metadata": {},
   "outputs": [
    {
     "name": "stdout",
     "output_type": "stream",
     "text": [
      "[['sunny', 'rainy'], ['warm', 'cold'], ['normal', 'high'], ['strong', 'weak'], ['warm', 'cool'], ['same', 'change']]\n",
      "6\n"
     ]
    }
   ],
   "source": [
    "print(attributes)\n",
    "num_attributes=len(attributes)\n",
    "print(num_attributes)"
   ]
  },
  {
   "cell_type": "code",
   "execution_count": 13,
   "metadata": {},
   "outputs": [
    {
     "name": "stdout",
     "output_type": "stream",
     "text": [
      "\n",
      " the most general hypothesis: ['?','?','?','?','?','?']\n",
      "\n",
      "\n",
      " the most specific hypothesis: ['0','0','0','0','0','0']\n",
      "\n"
     ]
    }
   ],
   "source": [
    "print(\"\\n the most general hypothesis: ['?','?','?','?','?','?']\\n\")\n",
    "print(\"\\n the most specific hypothesis: ['0','0','0','0','0','0']\\n\")"
   ]
  },
  {
   "cell_type": "code",
   "execution_count": 14,
   "metadata": {},
   "outputs": [
    {
     "name": "stdout",
     "output_type": "stream",
     "text": [
      "\n",
      " the given training data set\n",
      "\n",
      "['Sky', 'AirTemp', 'Humidity', 'wind', 'water', 'forecast', 'Enjoysport']\n",
      "['sunny', 'warm', 'normal', 'strong', 'warm', 'same', 'yes']\n",
      "['sunny', 'warm', 'high', 'strong', 'warm', 'same', 'yes']\n",
      "['rainy', 'cold', 'high', 'strong', 'warm', 'change', 'no']\n",
      "['sunny', 'warm', 'high', 'strong', 'cool', 'change', 'yes']\n"
     ]
    }
   ],
   "source": [
    "a=[]\n",
    "print(\"\\n the given training data set\\n\")\n",
    "with open('example.csv','r') as csvFile:\n",
    "    reader=csv.reader(csvFile)\n",
    "    for row in reader:\n",
    "        a.append(row)\n",
    "        print(row)"
   ]
  },
  {
   "cell_type": "code",
   "execution_count": 15,
   "metadata": {},
   "outputs": [
    {
     "name": "stdout",
     "output_type": "stream",
     "text": [
      "\n",
      " the initial value of hypothesis:\n",
      "['0', '0', '0', '0', '0', '0']\n"
     ]
    }
   ],
   "source": [
    "print(\"\\n the initial value of hypothesis:\")\n",
    "h=['0']*num_attributes\n",
    "print(h)"
   ]
  },
  {
   "cell_type": "code",
   "execution_count": 16,
   "metadata": {},
   "outputs": [
    {
     "name": "stdout",
     "output_type": "stream",
     "text": [
      "\n",
      " for training examples:5 the hypothsis\n",
      " ['sunny', 'warm', '?', 'strong', '?', '?']\n"
     ]
    }
   ],
   "source": [
    "for i in range(0,len(a)):\n",
    "    if a[i][num_attributes]=='yes':\n",
    "        for j in range(num_attributes):\n",
    "            if h[j]=='0' or h[j]==a[i][j]:\n",
    "                h[j]=a[i][j]\n",
    "            else:\n",
    "                h[j]='?'\n",
    "print(\"\\n for training examples:{0} the hypothsis\\n\".format(i+1),h)"
   ]
  }
 ],
 "metadata": {
  "kernelspec": {
   "display_name": "Python 3",
   "language": "python",
   "name": "python3"
  },
  "language_info": {
   "codemirror_mode": {
    "name": "ipython",
    "version": 3
   },
   "file_extension": ".py",
   "mimetype": "text/x-python",
   "name": "python",
   "nbconvert_exporter": "python",
   "pygments_lexer": "ipython3",
   "version": "3.7.1"
  }
 },
 "nbformat": 4,
 "nbformat_minor": 2
}
